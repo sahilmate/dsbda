{
 "cells": [
  {
   "cell_type": "code",
   "execution_count": 2,
   "metadata": {},
   "outputs": [
    {
     "name": "stdout",
     "output_type": "stream",
     "text": [
      "Iris-setosa\n",
      "             Id  SepalLengthCm  SepalWidthCm  PetalLengthCm  PetalWidthCm\n",
      "count  50.00000       50.00000     50.000000      50.000000      50.00000\n",
      "mean   25.50000        5.00600      3.418000       1.464000       0.24400\n",
      "std    14.57738        0.35249      0.381024       0.173511       0.10721\n",
      "min     1.00000        4.30000      2.300000       1.000000       0.10000\n",
      "25%    13.25000        4.80000      3.125000       1.400000       0.20000\n",
      "50%    25.50000        5.00000      3.400000       1.500000       0.20000\n",
      "75%    37.75000        5.20000      3.675000       1.575000       0.30000\n",
      "max    50.00000        5.80000      4.400000       1.900000       0.60000\n"
     ]
    }
   ],
   "source": [
    "import pandas as pd\n",
    "data = pd.read_csv(\"Iris.csv\")\n",
    "print('Iris-setosa')\n",
    "setosa = data['Species'] == 'Iris-setosa'\n",
    "print(data[setosa].describe())"
   ]
  },
  {
   "cell_type": "code",
   "execution_count": 3,
   "metadata": {},
   "outputs": [],
   "source": [
    "grouped_stats = data.groupby('Species').agg(['mean', 'median', 'min', 'max', 'std'])"
   ]
  },
  {
   "cell_type": "code",
   "execution_count": 4,
   "metadata": {},
   "outputs": [
    {
     "name": "stdout",
     "output_type": "stream",
     "text": [
      "Summary statistics grouped by Species:\n",
      "\n",
      "                    Id                            SepalLengthCm              \\\n",
      "                  mean median  min  max       std          mean median  min   \n",
      "Species                                                                       \n",
      "Iris-setosa       25.5   25.5    1   50  14.57738         5.006    5.0  4.3   \n",
      "Iris-versicolor   75.5   75.5   51  100  14.57738         5.936    5.9  4.9   \n",
      "Iris-virginica   125.5  125.5  101  150  14.57738         6.588    6.5  4.9   \n",
      "\n",
      "                                ... PetalLengthCm                             \\\n",
      "                 max       std  ...          mean median  min  max       std   \n",
      "Species                         ...                                            \n",
      "Iris-setosa      5.8  0.352490  ...         1.464   1.50  1.0  1.9  0.173511   \n",
      "Iris-versicolor  7.0  0.516171  ...         4.260   4.35  3.0  5.1  0.469911   \n",
      "Iris-virginica   7.9  0.635880  ...         5.552   5.55  4.5  6.9  0.551895   \n",
      "\n",
      "                PetalWidthCm                             \n",
      "                        mean median  min  max       std  \n",
      "Species                                                  \n",
      "Iris-setosa            0.244    0.2  0.1  0.6  0.107210  \n",
      "Iris-versicolor        1.326    1.3  1.0  1.8  0.197753  \n",
      "Iris-virginica         2.026    2.0  1.4  2.5  0.274650  \n",
      "\n",
      "[3 rows x 25 columns]\n"
     ]
    }
   ],
   "source": [
    "print(\"Summary statistics grouped by Species:\\n\")\n",
    "print(grouped_stats)"
   ]
  },
  {
   "cell_type": "code",
   "execution_count": 6,
   "metadata": {},
   "outputs": [
    {
     "name": "stdout",
     "output_type": "stream",
     "text": [
      "\n",
      "Mean SepalLengthCm for each species: {'Iris-setosa': 5.006, 'Iris-versicolor': 5.936, 'Iris-virginica': 6.587999999999999}\n"
     ]
    }
   ],
   "source": [
    "mean_sepal_length = data.groupby('Species')['SepalLengthCm'].mean().to_dict()\n",
    "print(\"\\nMean SepalLengthCm for each species:\", mean_sepal_length)\n",
    "\n",
    "# Create a dictionary with one numeric value for each categorical group"
   ]
  },
  {
   "cell_type": "code",
   "execution_count": 7,
   "metadata": {},
   "outputs": [
    {
     "name": "stdout",
     "output_type": "stream",
     "text": [
      "\n",
      "Iris-versicolor\n",
      "              Id  SepalLengthCm  SepalWidthCm  PetalLengthCm  PetalWidthCm\n",
      "count   50.00000      50.000000     50.000000      50.000000     50.000000\n",
      "mean    75.50000       5.936000      2.770000       4.260000      1.326000\n",
      "std     14.57738       0.516171      0.313798       0.469911      0.197753\n",
      "min     51.00000       4.900000      2.000000       3.000000      1.000000\n",
      "25%     63.25000       5.600000      2.525000       4.000000      1.200000\n",
      "50%     75.50000       5.900000      2.800000       4.350000      1.300000\n",
      "75%     87.75000       6.300000      3.000000       4.600000      1.500000\n",
      "max    100.00000       7.000000      3.400000       5.100000      1.800000\n"
     ]
    }
   ],
   "source": [
    "print('\\nIris-versicolor')\n",
    "setosa = data['Species'] == 'Iris-versicolor'\n",
    "print(data[setosa].describe())"
   ]
  },
  {
   "cell_type": "code",
   "execution_count": 8,
   "metadata": {},
   "outputs": [
    {
     "name": "stdout",
     "output_type": "stream",
     "text": [
      "\n",
      "Iris-virginica\n",
      "              Id  SepalLengthCm  SepalWidthCm  PetalLengthCm  PetalWidthCm\n",
      "count   50.00000       50.00000     50.000000      50.000000      50.00000\n",
      "mean   125.50000        6.58800      2.974000       5.552000       2.02600\n",
      "std     14.57738        0.63588      0.322497       0.551895       0.27465\n",
      "min    101.00000        4.90000      2.200000       4.500000       1.40000\n",
      "25%    113.25000        6.22500      2.800000       5.100000       1.80000\n",
      "50%    125.50000        6.50000      3.000000       5.550000       2.00000\n",
      "75%    137.75000        6.90000      3.175000       5.875000       2.30000\n",
      "max    150.00000        7.90000      3.800000       6.900000       2.50000\n"
     ]
    }
   ],
   "source": [
    "print('\\nIris-virginica')\n",
    "setosa = data['Species'] == 'Iris-virginica'\n",
    "print(data[setosa].describe())"
   ]
  }
 ],
 "metadata": {
  "kernelspec": {
   "display_name": "Python 3",
   "language": "python",
   "name": "python3"
  },
  "language_info": {
   "codemirror_mode": {
    "name": "ipython",
    "version": 3
   },
   "file_extension": ".py",
   "mimetype": "text/x-python",
   "name": "python",
   "nbconvert_exporter": "python",
   "pygments_lexer": "ipython3",
   "version": "3.11.9"
  }
 },
 "nbformat": 4,
 "nbformat_minor": 2
}
